{
  "cells": [
    {
      "cell_type": "markdown",
      "metadata": {
        "id": "Vs3ewOGAcJx-"
      },
      "source": [
        "#Nariman Zendehrooh Kermani"
      ]
    },
    {
      "cell_type": "markdown",
      "metadata": {
        "id": "9LacW2MRcaRA"
      },
      "source": [
        "##Imports"
      ]
    },
    {
      "cell_type": "code",
      "execution_count": 1,
      "metadata": {
        "id": "BM3dj9q9cF2y"
      },
      "outputs": [],
      "source": [
        "import numpy as np\n",
        "import pandas as pd\n",
        "import psycopg2\n",
        "from datetime import datetime"
      ]
    },
    {
      "cell_type": "markdown",
      "metadata": {
        "id": "-5vM3WSwd0KY"
      },
      "source": [
        "##Data Extraction"
      ]
    },
    {
      "cell_type": "code",
      "execution_count": 2,
      "metadata": {
        "id": "p4j9ksn3d550"
      },
      "outputs": [],
      "source": [
        "ds = pd.read_csv('https://data-engineer-technical-challenge.s3.ap-southeast-2.amazonaws.com/pace-data.txt')"
      ]
    },
    {
      "cell_type": "code",
      "execution_count": 3,
      "metadata": {
        "colab": {
          "base_uri": "https://localhost:8080/"
        },
        "id": "hhaPKETIean4",
        "outputId": "756356fb-7fd5-4c38-8fa5-04f8e078a7fb"
      },
      "outputs": [
        {
          "output_type": "execute_result",
          "data": {
            "text/plain": [
              "(174058, 20)"
            ]
          },
          "metadata": {},
          "execution_count": 3
        }
      ],
      "source": [
        "ds.shape"
      ]
    },
    {
      "cell_type": "code",
      "execution_count": 4,
      "metadata": {
        "colab": {
          "base_uri": "https://localhost:8080/"
        },
        "id": "Q9eKeJNpekne",
        "outputId": "37f26e67-1940-4f14-db6a-1645facbb2a7"
      },
      "outputs": [
        {
          "output_type": "execute_result",
          "data": {
            "text/plain": [
              "Index(['MovementDateTime', 'Destination', 'DestinationTidied', 'Speed',\n",
              "       'AdditionalInfo', 'CallSign', 'Heading', 'MMSI', 'MovementID',\n",
              "       'ShipName', 'ShipType', 'Beam', 'Draught', 'Length', 'ETA',\n",
              "       'MoveStatus', 'ladenStatus', 'LRIMOShipNo', 'Latitude', 'Longitude'],\n",
              "      dtype='object')"
            ]
          },
          "metadata": {},
          "execution_count": 4
        }
      ],
      "source": [
        "ds.columns"
      ]
    },
    {
      "cell_type": "code",
      "execution_count": 5,
      "metadata": {
        "colab": {
          "base_uri": "https://localhost:8080/",
          "height": 574
        },
        "id": "2-F6kK90e-HR",
        "outputId": "e8971c59-7081-4aad-e19c-c2077778718c"
      },
      "outputs": [
        {
          "output_type": "execute_result",
          "data": {
            "text/plain": [
              "      MovementDateTime           Destination           DestinationTidied  \\\n",
              "0  2019-07-20 00:00:00              PATIMBAN                         NaN   \n",
              "1  2019-07-20 00:00:00                LA PAZ                      La Paz   \n",
              "2  2019-07-20 00:00:00                 GTPRQ              Puerto Quetzal   \n",
              "3  2019-07-20 00:00:00                RU LED      St Petersburg Ugolnaya   \n",
              "4  2019-07-20 00:00:00                KAMSAR                 Port Kamsar   \n",
              "5  2019-07-20 00:00:00                 CNDLC                      Dalian   \n",
              "6  2019-07-20 00:00:00       ID CIG __AU PWL                         NaN   \n",
              "7  2019-07-20 00:00:00  SAO FRANCISCO DO SUL        Sao Francisco do Sul   \n",
              "8  2019-07-20 00:00:00           CALLAO_PERU                      Callao   \n",
              "9  2019-07-20 00:00:00          LIVERPOOL_UK  Liverpool (United Kingdom)   \n",
              "\n",
              "   Speed AdditionalInfo CallSign  Heading       MMSI        MovementID  \\\n",
              "0    9.8            NaN     YDLR     90.0  525019348  4780574056319002   \n",
              "1    0.0            NaN    XCAR8    163.0  345060069  4681115056319002   \n",
              "2   13.3            NaN  V7A2042    118.0  538008172  4984813056319002   \n",
              "3    0.0            NaN    D5SQ4    321.0  636019034  4977443056319002   \n",
              "4   13.6            NaN    3FBS5    216.0  372798000  4978315056319002   \n",
              "5   12.5            NaN    D5SM8    300.0  636019011  4978396056319002   \n",
              "6   12.8            NaN   9V5142    175.0  563029100  4980121056319002   \n",
              "7    9.5            NaN   9V6080    241.0  563079400  4983646056319002   \n",
              "8   11.9            NaN    V7JP6    130.0  538006084  4973511056319002   \n",
              "9   11.9            NaN    V7ZT5    345.0  538007228  4973580056319002   \n",
              "\n",
              "           ShipName ShipType  Beam  Draught  Length                      ETA  \\\n",
              "0         MV SENANG    Cargo    16      6.8     117  2019-07-20 16:00:00.000   \n",
              "1           SAKIS P    Cargo    13      5.1      82  2019-07-18 18:30:00.000   \n",
              "2      YASA JUPITER    Cargo    32     10.7     199  2019-07-21 10:00:00.000   \n",
              "3    MEDI ADRIATICO    Cargo    32      6.4     200  2019-07-18 03:00:00.000   \n",
              "4  SAKIZAYA RESPECT    Cargo    32      6.8     229  2019-07-24 15:00:00.000   \n",
              "5         STABILITY    Cargo    32     12.9     229  2019-08-11 22:00:00.000   \n",
              "6        CSK UNITED    Cargo    50      9.2     299  2019-07-23 21:00:00.000   \n",
              "7          PREDATOR    Cargo    32      7.1     229  2019-08-14 08:00:00.000   \n",
              "8           SWANSEA    Cargo    32     13.3     199  2019-07-24 23:55:00.000   \n",
              "9      GH RICH WALL    Cargo    32     10.8     199  2019-07-23 06:00:00.000   \n",
              "\n",
              "               MoveStatus ladenStatus  LRIMOShipNo   Latitude   Longitude  \n",
              "0  Under way using engine     Ballast      7805746  -5.732933  107.444069  \n",
              "1                  Moored     Ballast      6811152  24.264002 -110.331352  \n",
              "2  Under way using engine     Ballast      9848132  15.103770  -97.482719  \n",
              "3                Anchored     Ballast      9774434  60.105572   29.347267  \n",
              "4  Under way using engine     Ballast      9783150  29.713890  -12.162312  \n",
              "5  Under way using engine     Ballast      9783966  22.984583 -113.032501  \n",
              "6  Under way using engine     Ballast      9801213  -6.572037  105.007835  \n",
              "7  Under way using engine     Ballast      9836464   0.335243   86.707047  \n",
              "8  Under way using engine     Ballast      9735115   5.829837  -93.069611  \n",
              "9  Under way using engine     Ballast      9735804  37.653912  -10.163797  "
            ],
            "text/html": [
              "<div>\n",
              "<style scoped>\n",
              "    .dataframe tbody tr th:only-of-type {\n",
              "        vertical-align: middle;\n",
              "    }\n",
              "\n",
              "    .dataframe tbody tr th {\n",
              "        vertical-align: top;\n",
              "    }\n",
              "\n",
              "    .dataframe thead th {\n",
              "        text-align: right;\n",
              "    }\n",
              "</style>\n",
              "<table border=\"1\" class=\"dataframe\">\n",
              "  <thead>\n",
              "    <tr style=\"text-align: right;\">\n",
              "      <th></th>\n",
              "      <th>MovementDateTime</th>\n",
              "      <th>Destination</th>\n",
              "      <th>DestinationTidied</th>\n",
              "      <th>Speed</th>\n",
              "      <th>AdditionalInfo</th>\n",
              "      <th>CallSign</th>\n",
              "      <th>Heading</th>\n",
              "      <th>MMSI</th>\n",
              "      <th>MovementID</th>\n",
              "      <th>ShipName</th>\n",
              "      <th>ShipType</th>\n",
              "      <th>Beam</th>\n",
              "      <th>Draught</th>\n",
              "      <th>Length</th>\n",
              "      <th>ETA</th>\n",
              "      <th>MoveStatus</th>\n",
              "      <th>ladenStatus</th>\n",
              "      <th>LRIMOShipNo</th>\n",
              "      <th>Latitude</th>\n",
              "      <th>Longitude</th>\n",
              "    </tr>\n",
              "  </thead>\n",
              "  <tbody>\n",
              "    <tr>\n",
              "      <th>0</th>\n",
              "      <td>2019-07-20 00:00:00</td>\n",
              "      <td>PATIMBAN</td>\n",
              "      <td>NaN</td>\n",
              "      <td>9.8</td>\n",
              "      <td>NaN</td>\n",
              "      <td>YDLR</td>\n",
              "      <td>90.0</td>\n",
              "      <td>525019348</td>\n",
              "      <td>4780574056319002</td>\n",
              "      <td>MV SENANG</td>\n",
              "      <td>Cargo</td>\n",
              "      <td>16</td>\n",
              "      <td>6.8</td>\n",
              "      <td>117</td>\n",
              "      <td>2019-07-20 16:00:00.000</td>\n",
              "      <td>Under way using engine</td>\n",
              "      <td>Ballast</td>\n",
              "      <td>7805746</td>\n",
              "      <td>-5.732933</td>\n",
              "      <td>107.444069</td>\n",
              "    </tr>\n",
              "    <tr>\n",
              "      <th>1</th>\n",
              "      <td>2019-07-20 00:00:00</td>\n",
              "      <td>LA PAZ</td>\n",
              "      <td>La Paz</td>\n",
              "      <td>0.0</td>\n",
              "      <td>NaN</td>\n",
              "      <td>XCAR8</td>\n",
              "      <td>163.0</td>\n",
              "      <td>345060069</td>\n",
              "      <td>4681115056319002</td>\n",
              "      <td>SAKIS P</td>\n",
              "      <td>Cargo</td>\n",
              "      <td>13</td>\n",
              "      <td>5.1</td>\n",
              "      <td>82</td>\n",
              "      <td>2019-07-18 18:30:00.000</td>\n",
              "      <td>Moored</td>\n",
              "      <td>Ballast</td>\n",
              "      <td>6811152</td>\n",
              "      <td>24.264002</td>\n",
              "      <td>-110.331352</td>\n",
              "    </tr>\n",
              "    <tr>\n",
              "      <th>2</th>\n",
              "      <td>2019-07-20 00:00:00</td>\n",
              "      <td>GTPRQ</td>\n",
              "      <td>Puerto Quetzal</td>\n",
              "      <td>13.3</td>\n",
              "      <td>NaN</td>\n",
              "      <td>V7A2042</td>\n",
              "      <td>118.0</td>\n",
              "      <td>538008172</td>\n",
              "      <td>4984813056319002</td>\n",
              "      <td>YASA JUPITER</td>\n",
              "      <td>Cargo</td>\n",
              "      <td>32</td>\n",
              "      <td>10.7</td>\n",
              "      <td>199</td>\n",
              "      <td>2019-07-21 10:00:00.000</td>\n",
              "      <td>Under way using engine</td>\n",
              "      <td>Ballast</td>\n",
              "      <td>9848132</td>\n",
              "      <td>15.103770</td>\n",
              "      <td>-97.482719</td>\n",
              "    </tr>\n",
              "    <tr>\n",
              "      <th>3</th>\n",
              "      <td>2019-07-20 00:00:00</td>\n",
              "      <td>RU LED</td>\n",
              "      <td>St Petersburg Ugolnaya</td>\n",
              "      <td>0.0</td>\n",
              "      <td>NaN</td>\n",
              "      <td>D5SQ4</td>\n",
              "      <td>321.0</td>\n",
              "      <td>636019034</td>\n",
              "      <td>4977443056319002</td>\n",
              "      <td>MEDI ADRIATICO</td>\n",
              "      <td>Cargo</td>\n",
              "      <td>32</td>\n",
              "      <td>6.4</td>\n",
              "      <td>200</td>\n",
              "      <td>2019-07-18 03:00:00.000</td>\n",
              "      <td>Anchored</td>\n",
              "      <td>Ballast</td>\n",
              "      <td>9774434</td>\n",
              "      <td>60.105572</td>\n",
              "      <td>29.347267</td>\n",
              "    </tr>\n",
              "    <tr>\n",
              "      <th>4</th>\n",
              "      <td>2019-07-20 00:00:00</td>\n",
              "      <td>KAMSAR</td>\n",
              "      <td>Port Kamsar</td>\n",
              "      <td>13.6</td>\n",
              "      <td>NaN</td>\n",
              "      <td>3FBS5</td>\n",
              "      <td>216.0</td>\n",
              "      <td>372798000</td>\n",
              "      <td>4978315056319002</td>\n",
              "      <td>SAKIZAYA RESPECT</td>\n",
              "      <td>Cargo</td>\n",
              "      <td>32</td>\n",
              "      <td>6.8</td>\n",
              "      <td>229</td>\n",
              "      <td>2019-07-24 15:00:00.000</td>\n",
              "      <td>Under way using engine</td>\n",
              "      <td>Ballast</td>\n",
              "      <td>9783150</td>\n",
              "      <td>29.713890</td>\n",
              "      <td>-12.162312</td>\n",
              "    </tr>\n",
              "    <tr>\n",
              "      <th>5</th>\n",
              "      <td>2019-07-20 00:00:00</td>\n",
              "      <td>CNDLC</td>\n",
              "      <td>Dalian</td>\n",
              "      <td>12.5</td>\n",
              "      <td>NaN</td>\n",
              "      <td>D5SM8</td>\n",
              "      <td>300.0</td>\n",
              "      <td>636019011</td>\n",
              "      <td>4978396056319002</td>\n",
              "      <td>STABILITY</td>\n",
              "      <td>Cargo</td>\n",
              "      <td>32</td>\n",
              "      <td>12.9</td>\n",
              "      <td>229</td>\n",
              "      <td>2019-08-11 22:00:00.000</td>\n",
              "      <td>Under way using engine</td>\n",
              "      <td>Ballast</td>\n",
              "      <td>9783966</td>\n",
              "      <td>22.984583</td>\n",
              "      <td>-113.032501</td>\n",
              "    </tr>\n",
              "    <tr>\n",
              "      <th>6</th>\n",
              "      <td>2019-07-20 00:00:00</td>\n",
              "      <td>ID CIG __AU PWL</td>\n",
              "      <td>NaN</td>\n",
              "      <td>12.8</td>\n",
              "      <td>NaN</td>\n",
              "      <td>9V5142</td>\n",
              "      <td>175.0</td>\n",
              "      <td>563029100</td>\n",
              "      <td>4980121056319002</td>\n",
              "      <td>CSK UNITED</td>\n",
              "      <td>Cargo</td>\n",
              "      <td>50</td>\n",
              "      <td>9.2</td>\n",
              "      <td>299</td>\n",
              "      <td>2019-07-23 21:00:00.000</td>\n",
              "      <td>Under way using engine</td>\n",
              "      <td>Ballast</td>\n",
              "      <td>9801213</td>\n",
              "      <td>-6.572037</td>\n",
              "      <td>105.007835</td>\n",
              "    </tr>\n",
              "    <tr>\n",
              "      <th>7</th>\n",
              "      <td>2019-07-20 00:00:00</td>\n",
              "      <td>SAO FRANCISCO DO SUL</td>\n",
              "      <td>Sao Francisco do Sul</td>\n",
              "      <td>9.5</td>\n",
              "      <td>NaN</td>\n",
              "      <td>9V6080</td>\n",
              "      <td>241.0</td>\n",
              "      <td>563079400</td>\n",
              "      <td>4983646056319002</td>\n",
              "      <td>PREDATOR</td>\n",
              "      <td>Cargo</td>\n",
              "      <td>32</td>\n",
              "      <td>7.1</td>\n",
              "      <td>229</td>\n",
              "      <td>2019-08-14 08:00:00.000</td>\n",
              "      <td>Under way using engine</td>\n",
              "      <td>Ballast</td>\n",
              "      <td>9836464</td>\n",
              "      <td>0.335243</td>\n",
              "      <td>86.707047</td>\n",
              "    </tr>\n",
              "    <tr>\n",
              "      <th>8</th>\n",
              "      <td>2019-07-20 00:00:00</td>\n",
              "      <td>CALLAO_PERU</td>\n",
              "      <td>Callao</td>\n",
              "      <td>11.9</td>\n",
              "      <td>NaN</td>\n",
              "      <td>V7JP6</td>\n",
              "      <td>130.0</td>\n",
              "      <td>538006084</td>\n",
              "      <td>4973511056319002</td>\n",
              "      <td>SWANSEA</td>\n",
              "      <td>Cargo</td>\n",
              "      <td>32</td>\n",
              "      <td>13.3</td>\n",
              "      <td>199</td>\n",
              "      <td>2019-07-24 23:55:00.000</td>\n",
              "      <td>Under way using engine</td>\n",
              "      <td>Ballast</td>\n",
              "      <td>9735115</td>\n",
              "      <td>5.829837</td>\n",
              "      <td>-93.069611</td>\n",
              "    </tr>\n",
              "    <tr>\n",
              "      <th>9</th>\n",
              "      <td>2019-07-20 00:00:00</td>\n",
              "      <td>LIVERPOOL_UK</td>\n",
              "      <td>Liverpool (United Kingdom)</td>\n",
              "      <td>11.9</td>\n",
              "      <td>NaN</td>\n",
              "      <td>V7ZT5</td>\n",
              "      <td>345.0</td>\n",
              "      <td>538007228</td>\n",
              "      <td>4973580056319002</td>\n",
              "      <td>GH RICH WALL</td>\n",
              "      <td>Cargo</td>\n",
              "      <td>32</td>\n",
              "      <td>10.8</td>\n",
              "      <td>199</td>\n",
              "      <td>2019-07-23 06:00:00.000</td>\n",
              "      <td>Under way using engine</td>\n",
              "      <td>Ballast</td>\n",
              "      <td>9735804</td>\n",
              "      <td>37.653912</td>\n",
              "      <td>-10.163797</td>\n",
              "    </tr>\n",
              "  </tbody>\n",
              "</table>\n",
              "</div>"
            ]
          },
          "metadata": {},
          "execution_count": 5
        }
      ],
      "source": [
        "ds.head(10)"
      ]
    },
    {
      "cell_type": "code",
      "execution_count": 6,
      "metadata": {
        "colab": {
          "base_uri": "https://localhost:8080/"
        },
        "id": "2KtGStzBgO0y",
        "outputId": "9dda91d8-2ebf-40c6-8a99-4e9e66aec5f9"
      },
      "outputs": [
        {
          "output_type": "execute_result",
          "data": {
            "text/plain": [
              "AdditionalInfo       172830\n",
              "DestinationTidied     40703\n",
              "ShipType               2567\n",
              "Destination             695\n",
              "MoveStatus              462\n",
              "CallSign                 49\n",
              "ShipName                  1\n",
              "Length                    0\n",
              "Latitude                  0\n",
              "LRIMOShipNo               0\n",
              "ladenStatus               0\n",
              "ETA                       0\n",
              "MovementDateTime          0\n",
              "Draught                   0\n",
              "Beam                      0\n",
              "MovementID                0\n",
              "MMSI                      0\n",
              "Heading                   0\n",
              "Speed                     0\n",
              "Longitude                 0\n",
              "dtype: int64"
            ]
          },
          "metadata": {},
          "execution_count": 6
        }
      ],
      "source": [
        "ds.isnull().sum().sort_values(ascending=False)"
      ]
    },
    {
      "cell_type": "markdown",
      "metadata": {
        "id": "cVcLlk17ey7d"
      },
      "source": [
        "##MovementDateTime Normalization"
      ]
    },
    {
      "cell_type": "code",
      "execution_count": 7,
      "metadata": {
        "id": "maK38KLDjGSl"
      },
      "outputs": [],
      "source": [
        "ds['MovementDateTime'] = pd.to_datetime(ds['MovementDateTime'])\n",
        "ds['MovementDateTime'] = ds['MovementDateTime'].dt.strftime('%Y-%m-%dT%H:%M:%S')"
      ]
    },
    {
      "cell_type": "markdown",
      "metadata": {
        "id": "G3kPnKqGtMQ0"
      },
      "source": [
        "##CallSign Processing"
      ]
    },
    {
      "cell_type": "code",
      "source": [
        "def speed_processing(ds):\n",
        "    ds['Speed'] = ds['Speed'].mask(ds['Speed']==0).fillna(ds['Speed'].mean().round(1))\n",
        "    return ds\n",
        "\n",
        "ds.groupby('CallSign', group_keys=False).apply(lambda x: speed_processing(x) if ((x['MoveStatus'] == 'Under way using engine').any()) else x)"
      ],
      "metadata": {
        "colab": {
          "base_uri": "https://localhost:8080/",
          "height": 617
        },
        "id": "8U2O7JP44UeT",
        "outputId": "d53a7ebe-bedc-43b8-ffa2-d87af463486f"
      },
      "execution_count": 8,
      "outputs": [
        {
          "output_type": "execute_result",
          "data": {
            "text/plain": [
              "           MovementDateTime     Destination       DestinationTidied  Speed  \\\n",
              "0       2019-07-20T00:00:00        PATIMBAN                     NaN    9.8   \n",
              "1       2019-07-20T00:00:00          LA PAZ                  La Paz    2.6   \n",
              "2       2019-07-20T00:00:00           GTPRQ          Puerto Quetzal   13.3   \n",
              "3       2019-07-20T00:00:00          RU LED  St Petersburg Ugolnaya    1.4   \n",
              "4       2019-07-20T00:00:00          KAMSAR             Port Kamsar   13.6   \n",
              "...                     ...             ...                     ...    ...   \n",
              "174053  2019-07-20T23:59:00   VISAKHAPATNAM           Visakhapatnam    9.6   \n",
              "174054  2019-07-20T23:59:00  CN TAPAN CHINA                     NaN    9.0   \n",
              "174055  2019-07-20T23:59:00          KR PUS                   Busan   12.9   \n",
              "174056  2019-07-20T23:59:00         NORFOLK                 Norfolk    0.0   \n",
              "174057  2019-07-20T23:59:00          AU GLT               Gladstone   10.7   \n",
              "\n",
              "       AdditionalInfo CallSign     Heading       MMSI        MovementID  \\\n",
              "0                 NaN     YDLR   90.000000  525019348  4780574056319002   \n",
              "1                 NaN    XCAR8  163.000000  345060069  4681115056319002   \n",
              "2                 NaN  V7A2042  118.000000  538008172  4984813056319002   \n",
              "3                 NaN    D5SQ4  321.000000  636019034  4977443056319002   \n",
              "4                 NaN    3FBS5  216.000000  372798000  4978315056319002   \n",
              "...               ...      ...         ...        ...               ...   \n",
              "174053            NaN    VRQO5   53.000000  477333200  4975242056332802   \n",
              "174054            NaN    D5KU7  350.000000  636017413  4974789056332801   \n",
              "174055            NaN     7JWB  206.000000  431287000  4974802056332791   \n",
              "174056            NaN    V7OI7  116.699997  538006906  4974991056332791   \n",
              "174057            NaN  V7A2149  127.000000  538008255  4974986056332802   \n",
              "\n",
              "                ShipName ShipType  Beam    Draught  Length  \\\n",
              "0              MV SENANG    Cargo    16   6.800000     117   \n",
              "1                SAKIS P    Cargo    13   5.100000      82   \n",
              "2           YASA JUPITER    Cargo    32  10.700000     199   \n",
              "3         MEDI ADRIATICO    Cargo    32   6.400000     200   \n",
              "4       SAKIZAYA RESPECT    Cargo    32   6.800000     229   \n",
              "...                  ...      ...   ...        ...     ...   \n",
              "174053        DARYA SATI    Cargo    32  11.900000     200   \n",
              "174054      TRUE PATRIOT    Cargo    45  18.200001     292   \n",
              "174055        TOHOKUMARU    Cargo    38   8.400000     230   \n",
              "174056             CHLOE    Cargo    33   8.200000     229   \n",
              "174057            DELFIN    Cargo    33   9.100000     229   \n",
              "\n",
              "                            ETA              MoveStatus ladenStatus  \\\n",
              "0       2019-07-20 16:00:00.000  Under way using engine     Ballast   \n",
              "1       2019-07-18 18:30:00.000                  Moored     Ballast   \n",
              "2       2019-07-21 10:00:00.000  Under way using engine     Ballast   \n",
              "3       2019-07-18 03:00:00.000                Anchored     Ballast   \n",
              "4       2019-07-24 15:00:00.000  Under way using engine     Ballast   \n",
              "...                         ...                     ...         ...   \n",
              "174053  2019-07-30 22:30:00.000  Under way using engine     Ballast   \n",
              "174054  2019-07-18 14:00:00.000  Under way using engine     Ballast   \n",
              "174055  2019-07-22 10:00:00.000  Under way using engine     Ballast   \n",
              "174056  2019-07-18 01:00:00.000                Anchored     Ballast   \n",
              "174057  2019-07-25 02:00:00.000  Under way using engine     Ballast   \n",
              "\n",
              "        LRIMOShipNo   Latitude   Longitude  \n",
              "0           7805746  -5.732933  107.444069  \n",
              "1           6811152  24.264002 -110.331352  \n",
              "2           9848132  15.103770  -97.482719  \n",
              "3           9774434  60.105572   29.347267  \n",
              "4           9783150  29.713890  -12.162312  \n",
              "...             ...        ...         ...  \n",
              "174053      9752424 -16.734249   60.068554  \n",
              "174054      9747895  38.954613  119.223076  \n",
              "174055      9748021  37.412926  136.370850  \n",
              "174056      9749910  37.219616  -76.125488  \n",
              "174057      9749867  -7.352580  149.848038  \n",
              "\n",
              "[174009 rows x 20 columns]"
            ],
            "text/html": [
              "<div>\n",
              "<style scoped>\n",
              "    .dataframe tbody tr th:only-of-type {\n",
              "        vertical-align: middle;\n",
              "    }\n",
              "\n",
              "    .dataframe tbody tr th {\n",
              "        vertical-align: top;\n",
              "    }\n",
              "\n",
              "    .dataframe thead th {\n",
              "        text-align: right;\n",
              "    }\n",
              "</style>\n",
              "<table border=\"1\" class=\"dataframe\">\n",
              "  <thead>\n",
              "    <tr style=\"text-align: right;\">\n",
              "      <th></th>\n",
              "      <th>MovementDateTime</th>\n",
              "      <th>Destination</th>\n",
              "      <th>DestinationTidied</th>\n",
              "      <th>Speed</th>\n",
              "      <th>AdditionalInfo</th>\n",
              "      <th>CallSign</th>\n",
              "      <th>Heading</th>\n",
              "      <th>MMSI</th>\n",
              "      <th>MovementID</th>\n",
              "      <th>ShipName</th>\n",
              "      <th>ShipType</th>\n",
              "      <th>Beam</th>\n",
              "      <th>Draught</th>\n",
              "      <th>Length</th>\n",
              "      <th>ETA</th>\n",
              "      <th>MoveStatus</th>\n",
              "      <th>ladenStatus</th>\n",
              "      <th>LRIMOShipNo</th>\n",
              "      <th>Latitude</th>\n",
              "      <th>Longitude</th>\n",
              "    </tr>\n",
              "  </thead>\n",
              "  <tbody>\n",
              "    <tr>\n",
              "      <th>0</th>\n",
              "      <td>2019-07-20T00:00:00</td>\n",
              "      <td>PATIMBAN</td>\n",
              "      <td>NaN</td>\n",
              "      <td>9.8</td>\n",
              "      <td>NaN</td>\n",
              "      <td>YDLR</td>\n",
              "      <td>90.000000</td>\n",
              "      <td>525019348</td>\n",
              "      <td>4780574056319002</td>\n",
              "      <td>MV SENANG</td>\n",
              "      <td>Cargo</td>\n",
              "      <td>16</td>\n",
              "      <td>6.800000</td>\n",
              "      <td>117</td>\n",
              "      <td>2019-07-20 16:00:00.000</td>\n",
              "      <td>Under way using engine</td>\n",
              "      <td>Ballast</td>\n",
              "      <td>7805746</td>\n",
              "      <td>-5.732933</td>\n",
              "      <td>107.444069</td>\n",
              "    </tr>\n",
              "    <tr>\n",
              "      <th>1</th>\n",
              "      <td>2019-07-20T00:00:00</td>\n",
              "      <td>LA PAZ</td>\n",
              "      <td>La Paz</td>\n",
              "      <td>2.6</td>\n",
              "      <td>NaN</td>\n",
              "      <td>XCAR8</td>\n",
              "      <td>163.000000</td>\n",
              "      <td>345060069</td>\n",
              "      <td>4681115056319002</td>\n",
              "      <td>SAKIS P</td>\n",
              "      <td>Cargo</td>\n",
              "      <td>13</td>\n",
              "      <td>5.100000</td>\n",
              "      <td>82</td>\n",
              "      <td>2019-07-18 18:30:00.000</td>\n",
              "      <td>Moored</td>\n",
              "      <td>Ballast</td>\n",
              "      <td>6811152</td>\n",
              "      <td>24.264002</td>\n",
              "      <td>-110.331352</td>\n",
              "    </tr>\n",
              "    <tr>\n",
              "      <th>2</th>\n",
              "      <td>2019-07-20T00:00:00</td>\n",
              "      <td>GTPRQ</td>\n",
              "      <td>Puerto Quetzal</td>\n",
              "      <td>13.3</td>\n",
              "      <td>NaN</td>\n",
              "      <td>V7A2042</td>\n",
              "      <td>118.000000</td>\n",
              "      <td>538008172</td>\n",
              "      <td>4984813056319002</td>\n",
              "      <td>YASA JUPITER</td>\n",
              "      <td>Cargo</td>\n",
              "      <td>32</td>\n",
              "      <td>10.700000</td>\n",
              "      <td>199</td>\n",
              "      <td>2019-07-21 10:00:00.000</td>\n",
              "      <td>Under way using engine</td>\n",
              "      <td>Ballast</td>\n",
              "      <td>9848132</td>\n",
              "      <td>15.103770</td>\n",
              "      <td>-97.482719</td>\n",
              "    </tr>\n",
              "    <tr>\n",
              "      <th>3</th>\n",
              "      <td>2019-07-20T00:00:00</td>\n",
              "      <td>RU LED</td>\n",
              "      <td>St Petersburg Ugolnaya</td>\n",
              "      <td>1.4</td>\n",
              "      <td>NaN</td>\n",
              "      <td>D5SQ4</td>\n",
              "      <td>321.000000</td>\n",
              "      <td>636019034</td>\n",
              "      <td>4977443056319002</td>\n",
              "      <td>MEDI ADRIATICO</td>\n",
              "      <td>Cargo</td>\n",
              "      <td>32</td>\n",
              "      <td>6.400000</td>\n",
              "      <td>200</td>\n",
              "      <td>2019-07-18 03:00:00.000</td>\n",
              "      <td>Anchored</td>\n",
              "      <td>Ballast</td>\n",
              "      <td>9774434</td>\n",
              "      <td>60.105572</td>\n",
              "      <td>29.347267</td>\n",
              "    </tr>\n",
              "    <tr>\n",
              "      <th>4</th>\n",
              "      <td>2019-07-20T00:00:00</td>\n",
              "      <td>KAMSAR</td>\n",
              "      <td>Port Kamsar</td>\n",
              "      <td>13.6</td>\n",
              "      <td>NaN</td>\n",
              "      <td>3FBS5</td>\n",
              "      <td>216.000000</td>\n",
              "      <td>372798000</td>\n",
              "      <td>4978315056319002</td>\n",
              "      <td>SAKIZAYA RESPECT</td>\n",
              "      <td>Cargo</td>\n",
              "      <td>32</td>\n",
              "      <td>6.800000</td>\n",
              "      <td>229</td>\n",
              "      <td>2019-07-24 15:00:00.000</td>\n",
              "      <td>Under way using engine</td>\n",
              "      <td>Ballast</td>\n",
              "      <td>9783150</td>\n",
              "      <td>29.713890</td>\n",
              "      <td>-12.162312</td>\n",
              "    </tr>\n",
              "    <tr>\n",
              "      <th>...</th>\n",
              "      <td>...</td>\n",
              "      <td>...</td>\n",
              "      <td>...</td>\n",
              "      <td>...</td>\n",
              "      <td>...</td>\n",
              "      <td>...</td>\n",
              "      <td>...</td>\n",
              "      <td>...</td>\n",
              "      <td>...</td>\n",
              "      <td>...</td>\n",
              "      <td>...</td>\n",
              "      <td>...</td>\n",
              "      <td>...</td>\n",
              "      <td>...</td>\n",
              "      <td>...</td>\n",
              "      <td>...</td>\n",
              "      <td>...</td>\n",
              "      <td>...</td>\n",
              "      <td>...</td>\n",
              "      <td>...</td>\n",
              "    </tr>\n",
              "    <tr>\n",
              "      <th>174053</th>\n",
              "      <td>2019-07-20T23:59:00</td>\n",
              "      <td>VISAKHAPATNAM</td>\n",
              "      <td>Visakhapatnam</td>\n",
              "      <td>9.6</td>\n",
              "      <td>NaN</td>\n",
              "      <td>VRQO5</td>\n",
              "      <td>53.000000</td>\n",
              "      <td>477333200</td>\n",
              "      <td>4975242056332802</td>\n",
              "      <td>DARYA SATI</td>\n",
              "      <td>Cargo</td>\n",
              "      <td>32</td>\n",
              "      <td>11.900000</td>\n",
              "      <td>200</td>\n",
              "      <td>2019-07-30 22:30:00.000</td>\n",
              "      <td>Under way using engine</td>\n",
              "      <td>Ballast</td>\n",
              "      <td>9752424</td>\n",
              "      <td>-16.734249</td>\n",
              "      <td>60.068554</td>\n",
              "    </tr>\n",
              "    <tr>\n",
              "      <th>174054</th>\n",
              "      <td>2019-07-20T23:59:00</td>\n",
              "      <td>CN TAPAN CHINA</td>\n",
              "      <td>NaN</td>\n",
              "      <td>9.0</td>\n",
              "      <td>NaN</td>\n",
              "      <td>D5KU7</td>\n",
              "      <td>350.000000</td>\n",
              "      <td>636017413</td>\n",
              "      <td>4974789056332801</td>\n",
              "      <td>TRUE PATRIOT</td>\n",
              "      <td>Cargo</td>\n",
              "      <td>45</td>\n",
              "      <td>18.200001</td>\n",
              "      <td>292</td>\n",
              "      <td>2019-07-18 14:00:00.000</td>\n",
              "      <td>Under way using engine</td>\n",
              "      <td>Ballast</td>\n",
              "      <td>9747895</td>\n",
              "      <td>38.954613</td>\n",
              "      <td>119.223076</td>\n",
              "    </tr>\n",
              "    <tr>\n",
              "      <th>174055</th>\n",
              "      <td>2019-07-20T23:59:00</td>\n",
              "      <td>KR PUS</td>\n",
              "      <td>Busan</td>\n",
              "      <td>12.9</td>\n",
              "      <td>NaN</td>\n",
              "      <td>7JWB</td>\n",
              "      <td>206.000000</td>\n",
              "      <td>431287000</td>\n",
              "      <td>4974802056332791</td>\n",
              "      <td>TOHOKUMARU</td>\n",
              "      <td>Cargo</td>\n",
              "      <td>38</td>\n",
              "      <td>8.400000</td>\n",
              "      <td>230</td>\n",
              "      <td>2019-07-22 10:00:00.000</td>\n",
              "      <td>Under way using engine</td>\n",
              "      <td>Ballast</td>\n",
              "      <td>9748021</td>\n",
              "      <td>37.412926</td>\n",
              "      <td>136.370850</td>\n",
              "    </tr>\n",
              "    <tr>\n",
              "      <th>174056</th>\n",
              "      <td>2019-07-20T23:59:00</td>\n",
              "      <td>NORFOLK</td>\n",
              "      <td>Norfolk</td>\n",
              "      <td>0.0</td>\n",
              "      <td>NaN</td>\n",
              "      <td>V7OI7</td>\n",
              "      <td>116.699997</td>\n",
              "      <td>538006906</td>\n",
              "      <td>4974991056332791</td>\n",
              "      <td>CHLOE</td>\n",
              "      <td>Cargo</td>\n",
              "      <td>33</td>\n",
              "      <td>8.200000</td>\n",
              "      <td>229</td>\n",
              "      <td>2019-07-18 01:00:00.000</td>\n",
              "      <td>Anchored</td>\n",
              "      <td>Ballast</td>\n",
              "      <td>9749910</td>\n",
              "      <td>37.219616</td>\n",
              "      <td>-76.125488</td>\n",
              "    </tr>\n",
              "    <tr>\n",
              "      <th>174057</th>\n",
              "      <td>2019-07-20T23:59:00</td>\n",
              "      <td>AU GLT</td>\n",
              "      <td>Gladstone</td>\n",
              "      <td>10.7</td>\n",
              "      <td>NaN</td>\n",
              "      <td>V7A2149</td>\n",
              "      <td>127.000000</td>\n",
              "      <td>538008255</td>\n",
              "      <td>4974986056332802</td>\n",
              "      <td>DELFIN</td>\n",
              "      <td>Cargo</td>\n",
              "      <td>33</td>\n",
              "      <td>9.100000</td>\n",
              "      <td>229</td>\n",
              "      <td>2019-07-25 02:00:00.000</td>\n",
              "      <td>Under way using engine</td>\n",
              "      <td>Ballast</td>\n",
              "      <td>9749867</td>\n",
              "      <td>-7.352580</td>\n",
              "      <td>149.848038</td>\n",
              "    </tr>\n",
              "  </tbody>\n",
              "</table>\n",
              "<p>174009 rows × 20 columns</p>\n",
              "</div>"
            ]
          },
          "metadata": {},
          "execution_count": 8
        }
      ]
    },
    {
      "cell_type": "markdown",
      "metadata": {
        "id": "sXPlMeU1JEBx"
      },
      "source": [
        "##BeamRatio Creation"
      ]
    },
    {
      "cell_type": "code",
      "execution_count": 9,
      "metadata": {
        "id": "vRXxBkhjJLl_"
      },
      "outputs": [],
      "source": [
        "ds['BeamRatio'] = ds.apply(lambda x: x['Beam']/x['Length'] if x['Length'] != 0 else 0, axis=1)"
      ]
    },
    {
      "cell_type": "markdown",
      "metadata": {
        "id": "WgPyazqXNjvc"
      },
      "source": [
        "##Cleaned Data Export"
      ]
    },
    {
      "cell_type": "code",
      "execution_count": 10,
      "metadata": {
        "id": "C2DoKbhNNx4p"
      },
      "outputs": [],
      "source": [
        "ds.to_csv('/tmp/enriched.csv') "
      ]
    },
    {
      "cell_type": "markdown",
      "source": [
        "##Database Creation"
      ],
      "metadata": {
        "id": "hj1S3II5XKXz"
      }
    },
    {
      "cell_type": "code",
      "source": [
        "conn = psycopg2.connect(database=\"challenge\", user='rio', password='riotinto', host='localhost', port='5433')\n",
        "conn.autocommit = True\n",
        "cursor = conn.cursor()"
      ],
      "metadata": {
        "id": "tEbIAUpBXOYv"
      },
      "execution_count": 11,
      "outputs": []
    },
    {
      "cell_type": "code",
      "source": [
        "createsql = '''CREATE TABLE PACE(Index int NOT NULL, MovementDateTime char(19) NOT NULL, Destination varchar(30),\\\n",
        "DestinationTidied varchar(100), Speed float, AdditionalInfo varchar(100), CallSign varchar(20), Heading float,\\\n",
        "MMSI int, MovementID varchar(30), ShipName varchar(30), ShipType varchar(30), Beam int, Draught float, Length int,\\\n",
        "ETA varchar(30), MoveStatus varchar(30), ladenStatus varchar(30), LRIMOShipNo int, Latitude float, Longitude float, BeamRatio float);'''\n",
        "\n",
        "cursor.execute(createsql)"
      ],
      "metadata": {
        "id": "nREOUP5YIgzD"
      },
      "execution_count": 12,
      "outputs": []
    },
    {
      "cell_type": "code",
      "source": [
        "csvcopysql = '''COPY pace(Index, MovementDateTime, Destination,\\\n",
        "DestinationTidied, Speed, AdditionalInfo, CallSign, Heading,\\\n",
        "MMSI, MovementID, ShipName, ShipType, Beam, Draught, Length,\\\n",
        "ETA, MoveStatus, ladenStatus, LRIMOShipNo, Latitude, Longitude, BeamRatio)\n",
        "FROM '/tmp/enriched.csv'\n",
        "DELIMITER ','\n",
        "CSV HEADER;'''\n",
        "\n",
        "cursor.execute(csvcopysql)"
      ],
      "metadata": {
        "id": "bA_2afAeNqLV"
      },
      "execution_count": 13,
      "outputs": []
    },
    {
      "cell_type": "code",
      "source": [
        "selectsql = ''' SELECT * FROM pace LIMIT 20;'''\n",
        "\n",
        "cursor.execute(selectsql)\n",
        "row = cursor.fetchone()\n",
        "while row is not None:\n",
        "  print(row)\n",
        "  row = cursor.fetchone()"
      ],
      "metadata": {
        "colab": {
          "base_uri": "https://localhost:8080/"
        },
        "id": "JYI0l-MXTbWp",
        "outputId": "9a277791-6ff9-43a5-dc04-9a095b4f0e15"
      },
      "execution_count": 14,
      "outputs": [
        {
          "output_type": "stream",
          "name": "stdout",
          "text": [
            "(0, '2019-07-20T00:00:00', 'PATIMBAN', None, 9.800000190734863, None, 'YDLR', 90.0, 525019348, '4780574056319002', 'MV SENANG', 'Cargo', 16, 6.800000190734863, 117, '2019-07-20 16:00:00.000', 'Under way using engine', 'Ballast', 7805746, -5.732933044433594, 107.4440689086914, 0.13675213675213677)\n",
            "(1, '2019-07-20T00:00:00', 'LA PAZ', 'La Paz', 0.0, None, 'XCAR8', 163.0, 345060069, '4681115056319002', 'SAKIS P', 'Cargo', 13, 5.099999904632568, 82, '2019-07-18 18:30:00.000', 'Moored', 'Ballast', 6811152, 24.26400184631348, -110.33135223388672, 0.15853658536585366)\n",
            "(2, '2019-07-20T00:00:00', 'GTPRQ', 'Puerto Quetzal', 13.300000190734863, None, 'V7A2042', 118.0, 538008172, '4984813056319002', 'YASA JUPITER', 'Cargo', 32, 10.699999809265137, 199, '2019-07-21 10:00:00.000', 'Under way using engine', 'Ballast', 9848132, 15.10377025604248, -97.48271942138672, 0.16080402010050251)\n",
            "(3, '2019-07-20T00:00:00', 'RU LED', 'St Petersburg Ugolnaya', 0.0, None, 'D5SQ4', 321.0, 636019034, '4977443056319002', 'MEDI ADRIATICO', 'Cargo', 32, 6.400000095367432, 200, '2019-07-18 03:00:00.000', 'Anchored', 'Ballast', 9774434, 60.10557174682617, 29.347267150878903, 0.16)\n",
            "(4, '2019-07-20T00:00:00', 'KAMSAR', 'Port Kamsar', 13.600000381469728, None, '3FBS5', 216.0, 372798000, '4978315056319002', 'SAKIZAYA RESPECT', 'Cargo', 32, 6.800000190734863, 229, '2019-07-24 15:00:00.000', 'Under way using engine', 'Ballast', 9783150, 29.713890075683597, -12.162311553955078, 0.13973799126637554)\n",
            "(5, '2019-07-20T00:00:00', 'CNDLC', 'Dalian', 12.5, None, 'D5SM8', 300.0, 636019011, '4978396056319002', 'STABILITY', 'Cargo', 32, 12.899999618530272, 229, '2019-08-11 22:00:00.000', 'Under way using engine', 'Ballast', 9783966, 22.984582901000977, -113.03250122070312, 0.13973799126637554)\n",
            "(6, '2019-07-20T00:00:00', 'ID CIG __AU PWL', None, 12.800000190734863, None, '9V5142', 175.0, 563029100, '4980121056319002', 'CSK UNITED', 'Cargo', 50, 9.199999809265137, 299, '2019-07-23 21:00:00.000', 'Under way using engine', 'Ballast', 9801213, -6.572037220001221, 105.0078353881836, 0.16722408026755853)\n",
            "(7, '2019-07-20T00:00:00', 'SAO FRANCISCO DO SUL', 'Sao Francisco do Sul', 9.5, None, '9V6080', 241.0, 563079400, '4983646056319002', 'PREDATOR', 'Cargo', 32, 7.099999904632568, 229, '2019-08-14 08:00:00.000', 'Under way using engine', 'Ballast', 9836464, 0.3352429866790771, 86.70704650878906, 0.13973799126637554)\n",
            "(8, '2019-07-20T00:00:00', 'CALLAO_PERU', 'Callao', 11.899999618530272, None, 'V7JP6', 130.0, 538006084, '4973511056319002', 'SWANSEA', 'Cargo', 32, 13.300000190734863, 199, '2019-07-24 23:55:00.000', 'Under way using engine', 'Ballast', 9735115, 5.829836845397949, -93.06961059570312, 0.16080402010050251)\n",
            "(9, '2019-07-20T00:00:00', 'LIVERPOOL_UK', 'Liverpool (United Kingdom)', 11.899999618530272, None, 'V7ZT5', 345.0, 538007228, '4973580056319002', 'GH RICH WALL', 'Cargo', 32, 10.800000190734863, 199, '2019-07-23 06:00:00.000', 'Under way using engine', 'Ballast', 9735804, 37.65391159057617, -10.16379737854004, 0.16080402010050251)\n",
            "(10, '2019-07-20T00:00:00', 'PA BLB', 'Balboa', 11.5, None, 'V7OM2', 119.0, 538007452, '4973581056319002', 'GH SKY BEAUTY', 'Cargo', 32, 11.699999809265137, 200, '2019-07-24 18:00:00.000', 'Under way using engine', 'Ballast', 9735816, 16.423419952392578, -100.28629302978516, 0.16)\n",
            "(11, '2019-07-20T00:00:00', 'QINGDAO_CHINA', 'Qingdao', 7.900000095367432, None, 'V7ZK5', 72.0, 538004846, '4903095056319002', 'STELLAR LIBERTY', 'Cargo', 58, 22.0, 331, '2019-08-08 17:00:00.000', 'Under way using engine', 'Ballast', 9030955, -17.988481521606445, 73.57361602783203, 0.17522658610271905)\n",
            "(12, '2019-07-20T00:00:00', 'BOJONEGARA', 'Bojonegara', 0.0, None, 'YCCS2', 271.0, 525200105, '4923341056319002', 'VENTURA', 'Cargo', 32, 7.099999904632568, 190, '2019-07-08 03:00:00.000', 'Moored', 'Ballast', 9233416, -5.981082916259766, 106.11203002929688, 0.16842105263157894)\n",
            "(13, '2019-07-20T00:00:00', 'CN YPG _ AUS BWT', None, 9.399999618530272, None, 'HOQP', 156.0, 355993000, '4925384056319002', 'DYNAGREEN', 'Cargo', 32, 7.400000095367432, 198, '2019-07-30 05:00:00.000', 'Under way using engine', 'Ballast', 9253844, -14.069032669067385, 107.4600830078125, 0.16161616161616163)\n",
            "(14, '2019-07-20T00:00:00', 'SG SIN PEBGB', 'Singapore', 9.300000190734863, None, 'A8IS4', 54.0, 636091028, '4926293056319002', 'BOREAL', 'Cargo', 32, 13.0, 225, '2019-07-26 00:01:00.000', 'Under way using engine', 'Ballast', 9262936, -2.772382974624634, 82.17326354980469, 0.14222222222222222)\n",
            "(15, '2019-07-20T00:00:00', 'LK TRR', 'Trincomalee', 8.199999809265137, None, 'V7YP3', 243.0, 538007642, '4928849056319002', 'AM OCEAN SILVER', 'Cargo', 32, 6.5, 190, '2019-07-18 15:30:00.000', 'Under way using engine', 'Ballast', 9288497, 5.170975208282471, 80.96160888671875, 0.16842105263157894)\n",
            "(16, '2019-07-20T00:00:00', 'ZA SDB', 'Saldanha Bay', 12.699999809265137, None, '3FOI8', 229.0, 357156000, '4934000056319002', 'GLOBAL HARMONY', 'Cargo', 60, 11.100000381469728, 340, '2019-07-30 12:00:00.000', 'Under way using engine', 'Ballast', 9340001, -9.106840133666992, 75.45494842529297, 0.17647058823529413)\n",
            "(17, '2019-07-20T00:00:00', 'RU KGD', 'Kaliningrad', 11.699999809265137, None, 'VREI6', 44.0, 477114300, '4937798056319002', 'DIAMOND HARBOUR', 'Cargo', 28, 9.800000190734863, 180, '2019-08-10 12:00:00.000', 'Under way using engine', 'Ballast', 9377987, -31.88811492919922, -49.93600463867188, 0.15555555555555556)\n",
            "(18, '2019-07-20T00:00:00', 'GI GIB', 'Gibraltar', 13.5, None, 'HOGT', 92.0, 354213000, '4938516056319002', 'ORIENT HOPE', 'Cargo', 29, 9.899999618530272, 176, '2019-07-23 22:30:00.000', 'Under way using engine', 'Ballast', 9385166, 37.27163314819336, -32.91059875488281, 0.16477272727272727)\n",
            "(19, '2019-07-20T00:00:00', 'ALDAKHILAH', None, 12.0, None, 'YKRO', 242.0, 468395000, '4938523056319002', 'FINIKIA', 'Cargo', 25, 6.5, 138, '2019-07-20 19:00:00.000', 'Under way using engine', 'Ballast', 9385233, 33.57848358154297, 32.54436111450195, 0.18115942028985507)\n"
          ]
        }
      ]
    },
    {
      "cell_type": "markdown",
      "source": [
        "##Create S3 Bucket and Upload The CSV File"
      ],
      "metadata": {
        "id": "lfC4Z1jqcRmU"
      }
    },
    {
      "cell_type": "code",
      "source": [
        "!aws --version"
      ],
      "metadata": {
        "colab": {
          "base_uri": "https://localhost:8080/"
        },
        "id": "aJ_jY0OdVIrw",
        "outputId": "1f825069-a1c3-40c0-88d6-654675d7bde3"
      },
      "execution_count": 15,
      "outputs": [
        {
          "output_type": "stream",
          "name": "stdout",
          "text": [
            "aws-cli/2.5.8 Python/3.9.11 Darwin/22.1.0 exe/x86_64 prompt/off\r\n"
          ]
        }
      ]
    },
    {
      "cell_type": "code",
      "source": [
        "!aws s3 mb s3://riotinto-challenge --region ca-central-1\n",
        "!aws s3 cp /tmp/enriched.csv s3://riotinto-challenge"
      ],
      "metadata": {
        "colab": {
          "base_uri": "https://localhost:8080/"
        },
        "id": "HhjCFcP7Z7bf",
        "outputId": "d1b4cb05-d2f3-4e8a-9fda-32b921f2c663"
      },
      "execution_count": 16,
      "outputs": [
        {
          "output_type": "stream",
          "name": "stdout",
          "text": [
            "make_bucket: riotinto-challenge\n",
            "upload: ../../tmp/enriched.csv to s3://riotinto-challenge/enriched.csv\n"
          ]
        }
      ]
    },
    {
      "cell_type": "markdown",
      "source": [
        "##Clean up"
      ],
      "metadata": {
        "id": "xTklDsEOcaeI"
      }
    },
    {
      "cell_type": "code",
      "source": [
        "droptable = '''DROP TABLE pace'''\n",
        "cursor.execute(droptable)"
      ],
      "metadata": {
        "id": "QTsKbT6MQSBj"
      },
      "execution_count": 17,
      "outputs": []
    },
    {
      "cell_type": "code",
      "source": [
        "!aws s3 rm s3://riotinto-challenge/enriched.csv"
      ],
      "metadata": {
        "colab": {
          "base_uri": "https://localhost:8080/"
        },
        "id": "Cor_aaVlciKD",
        "outputId": "19bf216d-169a-4914-8930-f6321800469a"
      },
      "execution_count": 18,
      "outputs": [
        {
          "output_type": "stream",
          "name": "stdout",
          "text": [
            "delete: s3://riotinto-challenge/enriched.csv\r\n"
          ]
        }
      ]
    },
    {
      "cell_type": "code",
      "source": [
        "!aws s3api delete-bucket --bucket \"riotinto-challenge\""
      ],
      "metadata": {
        "id": "IzKSJBEkfFK8"
      },
      "execution_count": 19,
      "outputs": []
    }
  ],
  "metadata": {
    "colab": {
      "provenance": []
    },
    "kernelspec": {
      "display_name": "Python 3",
      "name": "python3"
    },
    "language_info": {
      "name": "python"
    }
  },
  "nbformat": 4,
  "nbformat_minor": 0
}